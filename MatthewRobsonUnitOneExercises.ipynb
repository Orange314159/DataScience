{
  "nbformat": 4,
  "nbformat_minor": 0,
  "metadata": {
    "colab": {
      "provenance": [],
      "include_colab_link": true
    },
    "kernelspec": {
      "name": "python3",
      "display_name": "Python 3"
    },
    "language_info": {
      "name": "python"
    }
  },
  "cells": [
    {
      "cell_type": "markdown",
      "metadata": {
        "id": "view-in-github",
        "colab_type": "text"
      },
      "source": [
        "<a href=\"https://colab.research.google.com/github/Orange314159/DataScience/blob/main/MatthewRobsonUnitOneExercises.ipynb\" target=\"_parent\"><img src=\"https://colab.research.google.com/assets/colab-badge.svg\" alt=\"Open In Colab\"/></a>"
      ]
    },
    {
      "cell_type": "markdown",
      "source": [
        "# Unit 1 Exercises: Data Structure Concepts\n",
        "\n",
        "The following questions will ask you to describe the various objects we learned about in the first Unit.\n",
        "\n",
        "I'm not giving you coding exercises, because we will learn all the coding technqiues we need as we move through the course.\n",
        "\n",
        "What I do need from you right now, is a conceptual understanding how how data is stored in our computer, when we use python."
      ],
      "metadata": {
        "id": "65OCktLjbZmA"
      }
    },
    {
      "cell_type": "markdown",
      "source": [
        "**Task1**:\n",
        "\n",
        "Describe the similarities and differences between an int and a float in python."
      ],
      "metadata": {
        "id": "bt0bWe1evLtv"
      }
    },
    {
      "cell_type": "markdown",
      "source": [
        "**Answer1**:\n",
        "\n",
        "An int refers to a number that is a integer or more simply, a number that does not contain a decimal part. A float is a floating point number which refers to the fact that is a number that CAN deal with a decimal part. In Python specifically, all division returns a float (which is bad)."
      ],
      "metadata": {
        "id": "FW3KHt4yvt90"
      }
    },
    {
      "cell_type": "markdown",
      "source": [
        "**Task2**:\n",
        "\n",
        "Describe the similarities and differences between: strings, lists, and dicts."
      ],
      "metadata": {
        "id": "mJ_i6he5wwgr"
      }
    },
    {
      "cell_type": "markdown",
      "source": [
        "**Answer2**:\n",
        "\n",
        "A string is a data type that stores a LIST of characters. To the programer, a string does not appear as a list, but it still is implemented with this data structure. A list is a set of data types, this means it contains multiple instances of a single (or multiple if you want) data type(s) which can each contain unique data. A dictionary is a hashmap where there is a key value pair where the key refers to one specific value."
      ],
      "metadata": {
        "id": "iFu5BKyWw98T"
      }
    },
    {
      "cell_type": "markdown",
      "source": [
        "**Task3**:\n",
        "\n",
        "What is a numpy array? Why would we ever use one over a list or dict?"
      ],
      "metadata": {
        "id": "56v05s45yBHk"
      }
    },
    {
      "cell_type": "markdown",
      "source": [
        "**Answer3**:\n",
        "\n",
        "A numpy array is like a python list, but it only uses one data type. This restriction allows numpy arrays to be much faster than lists in python."
      ],
      "metadata": {
        "id": "eikgxyNzyLTY"
      }
    },
    {
      "cell_type": "markdown",
      "source": [
        "**Task4**:\n",
        "\n",
        "What is a pandas dataframe? Why would we ever want to use one over a numpy array?"
      ],
      "metadata": {
        "id": "RLaEQ5irywBl"
      }
    },
    {
      "cell_type": "markdown",
      "source": [
        "**Answer4**:\n",
        "\n",
        "A pandas dataframe is a two dimensional matrix that can store multiple dat types. It is used over a numpy array when you are looking to use multiple data types or if you are not willing to have nested numpy arrays."
      ],
      "metadata": {
        "id": "5IkNlzYpy-HP"
      }
    },
    {
      "cell_type": "markdown",
      "source": [
        "**Task5**:\n",
        "\n",
        "What are for loops, and why would we ever use them?"
      ],
      "metadata": {
        "id": "khRn2d7qz1Y2"
      }
    },
    {
      "cell_type": "markdown",
      "source": [
        "**Answer5**:\n",
        "\n",
        "For loops are loops where a segment of code is run repeatedly while waiting for some condition to be met. Often this is done by seting some maximum value and itterating until you reach the maximum value."
      ],
      "metadata": {
        "id": "NAdVfRZB1d9J"
      }
    },
    {
      "cell_type": "markdown",
      "source": [
        "## Bonus: Faster Data Wrangling\n",
        "\n",
        "No, this is not extra credit. There will never be extra credit in this class. Only do these tasks if they sound fun, or to procrastinate on your other coursework."
      ],
      "metadata": {
        "id": "LQiruyOXZ5gx"
      }
    },
    {
      "cell_type": "markdown",
      "source": [
        "I mentioned in the notes that [polars](https://docs.pola.rs/user-guide/migration/pandas/#filtering) is a library that is just plain faster than pandas. I've never actually played with it myself, so I'm shifting that responsibility over to you."
      ],
      "metadata": {
        "id": "cgbgyZpiaVnE"
      }
    },
    {
      "cell_type": "markdown",
      "source": [
        "**Task6**\n",
        "\n",
        "Redo Task11 from the notes, but in polars."
      ],
      "metadata": {
        "id": "4EzSdSs7cUz0"
      }
    },
    {
      "cell_type": "code",
      "source": [
        "# import both polars and pandas as we need both to compare\n",
        "import polars as pl\n",
        "import pandas as pd\n",
        "import time\n",
        "\n",
        "#make a string of the webpage where my data lives\n",
        "url_basketball = 'https://raw.githubusercontent.com/thedarredondo/data-science-fundamentals/main/Data/basketball2324.csv'\n",
        "\n",
        "# from this csv, we can generate a table using polars\n",
        "basketball = pl.read_csv(url_basketball)\n",
        "\n",
        "# access specific rows\n",
        "# basketball[['Player', 'FGA', 'PTS']][0:10]\n",
        "\n",
        "start_time = time.time()\n",
        "# task 11 from notes\n",
        "print(basketball.filter((pl.col(\"FT%\") >= 0.9) & (pl.col(\"FTA\") > 40) & (pl.col(\"Pos\") == \"PG\")))\n",
        "end_time = time.time()\n",
        "\n",
        "print(\"Polars took: \" , end_time - start_time , \" seconds\\n\\n\")\n",
        "\n",
        "\n",
        "# now for pandas\n",
        "basketball = pd.read_csv(url_basketball)\n",
        "\n",
        "start_time = time.time()\n",
        "print(basketball.query(\"`FT%` >= 0.9 and FTA > 40 and Pos == 'PG'\").drop(columns = ['Player-additional','GS','PF']))\n",
        "end_time = time.time()\n",
        "\n",
        "print(\"Pandas took: \" , end_time - start_time , \" seconds\")\n",
        "\n",
        "# based on my computer speed I have found ~10x speedup by using polars, but varries from 5-20x in my limited testing\n",
        "# polars take on the order of 0.0015 - 0.002 seconds and pandas takes on the order of 0.015 - 0.02 seconds\n",
        "# also, a personal note, I prefer the printout of polars because it makes a distinct table and does not strech onto new lines"
      ],
      "metadata": {
        "colab": {
          "base_uri": "https://localhost:8080/"
        },
        "id": "3I2RICJ3Emkm",
        "outputId": "0f578cfb-2973-4729-8b6d-1d7562b95962"
      },
      "execution_count": 35,
      "outputs": [
        {
          "output_type": "stream",
          "name": "stdout",
          "text": [
            "shape: (4, 30)\n",
            "┌────────────────┬─────┬─────┬─────┬───┬─────┬─────┬──────┬───────────────────┐\n",
            "│ Player         ┆ Pos ┆ Age ┆ Tm  ┆ … ┆ TOV ┆ PF  ┆ PTS  ┆ Player-additional │\n",
            "│ ---            ┆ --- ┆ --- ┆ --- ┆   ┆ --- ┆ --- ┆ ---  ┆ ---               │\n",
            "│ str            ┆ str ┆ i64 ┆ str ┆   ┆ i64 ┆ i64 ┆ i64  ┆ str               │\n",
            "╞════════════════╪═════╪═════╪═════╪═══╪═════╪═════╪══════╪═══════════════════╡\n",
            "│ Mike Conley    ┆ PG  ┆ 36  ┆ MIN ┆ … ┆ 102 ┆ 128 ┆ 869  ┆ conlemi01         │\n",
            "│ Stephen Curry  ┆ PG  ┆ 35  ┆ GSW ┆ … ┆ 210 ┆ 117 ┆ 1956 ┆ curryst01         │\n",
            "│ Aaron Holiday  ┆ PG  ┆ 27  ┆ HOU ┆ … ┆ 53  ┆ 125 ┆ 514  ┆ holidaa01         │\n",
            "│ Damian Lillard ┆ PG  ┆ 33  ┆ MIL ┆ … ┆ 193 ┆ 134 ┆ 1775 ┆ lillada01         │\n",
            "└────────────────┴─────┴─────┴─────┴───┴─────┴─────┴──────┴───────────────────┘\n",
            "Polars took:  0.0029082298278808594  seconds\n",
            "\n",
            "\n",
            "             Player Pos  Age   Tm   G    MP   FG   FGA    FG%   3P  ...  FTA  \\\n",
            "103     Mike Conley  PG   36  MIN  76  2193  294   644  0.457  179  ...  112   \n",
            "113   Stephen Curry  PG   35  GSW  74  2421  650  1445  0.450  357  ...  324   \n",
            "220   Aaron Holiday  PG   27  HOU  78  1269  186   417  0.446   84  ...   63   \n",
            "297  Damian Lillard  PG   33  MIL  73  2579  541  1277  0.424  220  ...  514   \n",
            "\n",
            "       FT%  ORB  DRB  TRB  AST  STL  BLK  TOV   PTS  \n",
            "103  0.911   37  181  218  449   88   17  102   869  \n",
            "113  0.923   37  293  330  379   54   28  210  1956  \n",
            "220  0.921   23  100  123  140   42    6   53   514  \n",
            "297  0.920   36  284  320  508   72   18  193  1775  \n",
            "\n",
            "[4 rows x 27 columns]\n",
            "Pandas took:  0.02266216278076172  seconds\n"
          ]
        }
      ]
    },
    {
      "cell_type": "markdown",
      "source": [
        "**Task7**\n",
        "\n",
        "Measure how much faster polars is at the Task11 operation than pandas.\n",
        "\n",
        "(See task 6)"
      ],
      "metadata": {
        "id": "sRyQs8QLcfnM"
      }
    },
    {
      "cell_type": "markdown",
      "source": [
        "**Task8**:\n",
        "\n",
        "Explain, in detail, exactly why polars is faster than pandas. Is anything lost by making these changes? Is polars strictly better than pandas? If so, why would pandas exist in the first place?\n",
        "\n",
        "Two main factors lead polars to being faster than pandas: multithreading and row column based format. Pandas historically uses a row based memory format which is slower than column based because column based formats can utilize vector functions which are quite well optimized. As for multithreading, polars uses multithreading out of the box whereas I am not smart enough to implement multiprocessing in pandas. This means that polars can use all of the cores of my computer and pandas has to rely on only one. (I am not sure if this makes a significant difference for this project but it could have a small impact) The reason that pandas still exists is because it was the original package for python and is in use in many legacy tools that need to be cross compatible and that do not require the speedup."
      ],
      "metadata": {
        "id": "zLdCWzvAdYGA"
      }
    }
  ]
}