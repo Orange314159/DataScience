{
  "nbformat": 4,
  "nbformat_minor": 0,
  "metadata": {
    "colab": {
      "provenance": [],
      "include_colab_link": true
    },
    "kernelspec": {
      "name": "python3",
      "display_name": "Python 3"
    },
    "language_info": {
      "name": "python"
    }
  },
  "cells": [
    {
      "cell_type": "markdown",
      "metadata": {
        "id": "view-in-github",
        "colab_type": "text"
      },
      "source": [
        "<a href=\"https://colab.research.google.com/github/Orange314159/DataScience/blob/main/MattRobsU3proj.ipynb\" target=\"_parent\"><img src=\"https://colab.research.google.com/assets/colab-badge.svg\" alt=\"Open In Colab\"/></a>"
      ]
    },
    {
      "cell_type": "code",
      "source": [
        "!pip install -q \"preliz[full,notebook]\" ## use -q to reduce the included text for download"
      ],
      "metadata": {
        "id": "3xvGOrVlmKf9",
        "collapsed": true
      },
      "execution_count": null,
      "outputs": []
    },
    {
      "cell_type": "code",
      "source": [
        "import preliz as pz\n",
        "import numpy as np\n",
        "import matplotlib.pyplot as plt\n",
        "import polars as pl\n",
        "import arviz as az\n",
        "import pymc as pm\n",
        "import altair as alt"
      ],
      "metadata": {
        "id": "p0bxCpvRoy4f"
      },
      "execution_count": null,
      "outputs": []
    },
    {
      "cell_type": "markdown",
      "source": [
        "# Sleep Tracking (again)"
      ],
      "metadata": {
        "id": "X0xk9XLn4lrg"
      }
    },
    {
      "cell_type": "markdown",
      "source": [
        "## Context\n",
        "In this project I will further discover the extent to the poor sleep of my subject. I will be using the same period of time as in project two where I measure the ammount of sleep of my subject, but in this case I will be using the exact sleep amount, rather than the black and white (>8hrs of sleep)."
      ],
      "metadata": {
        "id": "1ZrcEau64sb4"
      }
    },
    {
      "cell_type": "markdown",
      "source": [
        "### A quick note on my priors:\n",
        "Here are my predictions for the given moments of data:  \n",
        "Mean: 7hrs  \n",
        "Variance: 3hrs  \n",
        "Skewness: small (0.1 ish)  \n",
        "Kurtosis: medium (3 ish)  \n",
        "Based on this and the information that I get from drawing the posterior I will be able to create my priors."
      ],
      "metadata": {
        "id": "OvVHlfATBQfk"
      }
    },
    {
      "cell_type": "markdown",
      "source": [
        "## Likelihood\n",
        "I will use my data set that he has reported on his sleep. It appears that he has a fairly normally distributed sleep pattern with a slight right skew. Additionally, this looks to have a mean of about 7hrs."
      ],
      "metadata": {
        "id": "ZFSb7ODMDhoq"
      }
    },
    {
      "cell_type": "code",
      "source": [
        "from google.colab import drive\n",
        "drive.mount('/content/drive')"
      ],
      "metadata": {
        "id": "c9BbVg_ESC_h"
      },
      "execution_count": null,
      "outputs": []
    },
    {
      "cell_type": "code",
      "source": [
        "# Using Polars, import the sleep data (a table of 1s and 0s with width of 7)\n",
        "sleepData = pl.read_csv(\"/content/drive/MyDrive/DataScience/UnitThreeProjectDataSet.csv\")\n",
        "\n",
        "## plot the data\n",
        "print(plt.hist(sleepData.to_numpy().flatten())[2])\n",
        "\n",
        "data = sleepData.to_numpy().flatten()\n"
      ],
      "metadata": {
        "id": "iiaI1aL65mFJ"
      },
      "execution_count": null,
      "outputs": []
    },
    {
      "cell_type": "markdown",
      "source": [
        "## Priors\n",
        "For my prior I belive that my subject will have generally normally distributed sleep with some outliers. This is beacuse I think that he is not near any physical limit that would create a skew. I think there will be some outliers because I belive that may be nights where he had too much homework or a flight or something that could lead to 0hrs of sleep or possibly 10hrs of sleep if he is sick and spends a long time in bed. Additionally, there might be a slight right skew because of the strict physical limit at 0hrs of sleep, but I do not think that this will be significant."
      ],
      "metadata": {
        "id": "5hQWTq97CC9O"
      }
    },
    {
      "cell_type": "markdown",
      "source": [
        "For this reason I let my mean be decribed by right skewed prior"
      ],
      "metadata": {
        "id": "SzlQ2WDKySPr"
      }
    },
    {
      "cell_type": "code",
      "source": [
        "print(pz.Normal(7,2).plot_pdf())"
      ],
      "metadata": {
        "id": "bI_LCqnlPBGv"
      },
      "execution_count": null,
      "outputs": []
    },
    {
      "cell_type": "markdown",
      "source": [
        "I will use LogNormal for my stDev prior because a stDev can't be negative and the LogNormal distribution fits this requirement."
      ],
      "metadata": {
        "id": "-LAVg5yOyezQ"
      }
    },
    {
      "cell_type": "code",
      "source": [
        "import math\n",
        "print(pz.LogNormal(math.log(3), 0.5).plot_pdf())"
      ],
      "metadata": {
        "id": "J0vTMz4xx3wH"
      },
      "execution_count": null,
      "outputs": []
    },
    {
      "cell_type": "markdown",
      "source": [
        "This again looks fairly similar, but ever so slightly closer matching to my data, but more importantly it further matches my context because it keeps the projection of my subjects sleep above 0 more often, matching the physical limits I see in my context."
      ],
      "metadata": {
        "id": "t2mJvtA4WUHu"
      }
    },
    {
      "cell_type": "code",
      "source": [
        "with pm.Model() as model_sleep:\n",
        "    prior = pm.Normal(\"mu\", mu=7, sigma=2)\n",
        "    prior2 = pm.LogNormal(\"sigma\", mu=math.log(1), sigma=0.5)\n",
        "    Y = pm.Normal('Y', mu = prior, sigma = prior2, observed=data)\n",
        "    idata_sleep = pm.sample()"
      ],
      "metadata": {
        "id": "28YCjsSEER47"
      },
      "execution_count": null,
      "outputs": []
    },
    {
      "cell_type": "code",
      "source": [
        "print(az.plot_posterior(idata_sleep)[1])"
      ],
      "metadata": {
        "id": "hnEp1kBbETbz"
      },
      "execution_count": null,
      "outputs": []
    },
    {
      "cell_type": "code",
      "source": [
        "pm.sample_posterior_predictive(idata_sleep, model=model_sleep, extend_inferencedata=True)\n",
        "az.plot_ppc(idata_sleep, num_pp_samples=100, figsize=(12, 4), colors=[\"C1\", \"C0\", \"C1\"])"
      ],
      "metadata": {
        "id": "d2cRN4k9SV1K"
      },
      "execution_count": null,
      "outputs": []
    },
    {
      "cell_type": "markdown",
      "source": [
        "The above model looks pretty good, but I think we can do better. The main drawback that I currently observe is a right skew that I predicted might be possible. Based on this, I am going to try the same normal distribution but with a skew."
      ],
      "metadata": {
        "id": "-3XW4tqAT3FM"
      }
    },
    {
      "cell_type": "code",
      "source": [
        "with pm.Model() as model_sleep2:\n",
        "    prior = pm.Normal(\"mu\", mu=7, sigma=2)\n",
        "    prior2 = pm.LogNormal(\"sigma\", mu=math.log(1), sigma=0.5)\n",
        "    prior3 = pm.Normal(\"skew\", mu=0.5, sigma=0.25)\n",
        "    Y = pm.SkewNormal('Y', mu = prior, sigma = prior2, alpha = prior3 ,observed=data)\n",
        "    idata_sleep = pm.sample()"
      ],
      "metadata": {
        "id": "3rKQYnp-T26k"
      },
      "execution_count": null,
      "outputs": []
    },
    {
      "cell_type": "code",
      "source": [
        "print(az.plot_posterior(idata_sleep)[1])"
      ],
      "metadata": {
        "id": "AYpKn9mhk1J8"
      },
      "execution_count": null,
      "outputs": []
    },
    {
      "cell_type": "code",
      "source": [
        "pm.sample_posterior_predictive(idata_sleep, model=model_sleep2, extend_inferencedata=True)\n",
        "az.plot_ppc(idata_sleep, num_pp_samples=100, figsize=(12, 4), colors=[\"C1\", \"C0\", \"C1\"])"
      ],
      "metadata": {
        "id": "Dbgek041U8OW"
      },
      "execution_count": null,
      "outputs": []
    },
    {
      "cell_type": "code",
      "metadata": {
        "id": "4a23a8e4"
      },
      "source": [
        "posterior_predictive_mean = idata_sleep.posterior_predictive[\"Y\"].mean()\n",
        "print(\"mean:\", \"\\t\\t\", round(posterior_predictive_mean.mean().item(),3))\n",
        "\n",
        "hda_95 = az.hdi(idata_sleep.posterior_predictive[\"Y\"], hdi_prob=0.95)\n",
        "print(\"95% HDA:\", \"\\t\", (hda_95.Y.min().item(), hda_95.Y.max().item()))\n",
        "\n",
        "hda_68 = az.hdi(idata_sleep.posterior_predictive[\"Y\"], hdi_prob=0.6827)\n",
        "print(\"68.27% HDA:\", \"\\t\", (hda_68.Y.min().item(), hda_68.Y.max().item()))"
      ],
      "execution_count": null,
      "outputs": []
    },
    {
      "cell_type": "markdown",
      "source": [
        "## Conclusion"
      ],
      "metadata": {
        "id": "tDcbyK4fd6oO"
      }
    },
    {
      "cell_type": "markdown",
      "source": [
        "Based on my final model, it appears that my subject is projected to sleep approximately normal distribution centered about 7.36hrs of sleep. The model also suggests that we will find the subjects sleep to fall between 2.298hrs and 12.564hrs 95% of the time. This supports my earlier guess that the distribution might be slightly right skewed as this range includes more to right of the mean. Looking at our \"one sigma\" we find that it extends 2.979hrs to the left and 2.730hrs to the right, suggesting that my original guess of 3 as the standard deviation was very close. My guess of 7 for a mean was somewhat close, but it was a little low which probably could have been corrected for by considering the time that the subject was not in school (on summer break)."
      ],
      "metadata": {
        "id": "HquIgTEtd96P"
      }
    }
  ]
}